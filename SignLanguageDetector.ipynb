{
  "nbformat": 4,
  "nbformat_minor": 0,
  "metadata": {
    "colab": {
      "provenance": [],
      "authorship_tag": "ABX9TyOrpjw0YMe/eyLqO+/vCkWv",
      "include_colab_link": true
    },
    "kernelspec": {
      "name": "python3",
      "display_name": "Python 3"
    },
    "language_info": {
      "name": "python"
    }
  },
  "cells": [
    {
      "cell_type": "markdown",
      "metadata": {
        "id": "view-in-github",
        "colab_type": "text"
      },
      "source": [
        "<a href=\"https://colab.research.google.com/github/bigboyfreezy/sign-language-detection/blob/main/SignLanguageDetector.ipynb\" target=\"_parent\"><img src=\"https://colab.research.google.com/assets/colab-badge.svg\" alt=\"Open In Colab\"/></a>"
      ]
    },
    {
      "cell_type": "markdown",
      "source": [
        "# SIGN LANGUAGE DETECTION WITH KERAS\n",
        "**Detecting Sign Language Letters in Real Time Using MediaPipe and Keras**\n"
      ],
      "metadata": {
        "id": "KCAbo7rxBN5F"
      }
    },
    {
      "cell_type": "markdown",
      "source": [
        "**DATA PREPARATION FOR TRAINING**"
      ],
      "metadata": {
        "id": "0oEruHfECA9F"
      }
    },
    {
      "cell_type": "code",
      "source": [
        "import matplotlib.pyplot as plt\n",
        "import seaborn as sns\n",
        "import keras\n",
        "from keras.models import Sequential\n",
        "from keras.layers import Dense, Conv2D , MaxPool2D , Flatten , Dropout , BatchNormalization\n",
        "from keras.preprocessing.image import ImageDataGenerator\n",
        "from sklearn.model_selection import train_test_split\n",
        "from sklearn.metrics import classification_report,confusion_matrix\n",
        "from keras.callbacks import ReduceLROnPlateau\n",
        "import pandas as pd"
      ],
      "metadata": {
        "id": "KSMN4dO8BPrG"
      },
      "execution_count": null,
      "outputs": []
    },
    {
      "cell_type": "markdown",
      "source": [
        "1. First We install the TensorFlow library, which is commonly used for machine learning and deep learning tasks.\n",
        "2. OpenCV library - Used in image processing and performing computer vision tasks. It is an open-source library that can be used to perform tasks like face detection, objection tracking, landmark detection, and much more\n",
        "3. Mediapipe library, a library by Google that simplifies the development of applications for detecting and tracking various keypoints on the human body.\n",
        "4.  Python os module, which provides a way of using operating system-dependent functionality, like reading or writing to the file system.\n",
        "5.  NumPy library, which provides support for large, multi-dimensional arrays and matrices, along with mathematical functions.\n",
        "6.  Pandas library, a powerful data manipulation and analysis library."
      ],
      "metadata": {
        "id": "dRhQG2_u89y_"
      }
    },
    {
      "cell_type": "code",
      "execution_count": null,
      "metadata": {
        "id": "S8Y4fwZn8EUF"
      },
      "outputs": [],
      "source": [
        "! pip install tensorflow\n",
        "! pip install opencv-python\n",
        "! pip install mediapipe --user\n",
        "import os\n",
        "os.environ['TF_CPP_MIN_LOG_LEVEL'] = '3'\n",
        "import tensorflow as tf\n",
        "import cv2\n",
        "import mediapipe as mp\n",
        "\n",
        "from keras.models import load_model #function from the Keras library, which is used for loading pre-trained machine learning models\n",
        "import numpy as np\n",
        "import time #  allows you to measure and control the time taken by various operations.\n",
        "import pandas as pd"
      ]
    },
    {
      "cell_type": "markdown",
      "source": [],
      "metadata": {
        "id": "eKsulvK3ANPg"
      }
    },
    {
      "cell_type": "code",
      "source": [],
      "metadata": {
        "id": "Ak1Z7yG9AONW"
      },
      "execution_count": null,
      "outputs": []
    }
  ]
}